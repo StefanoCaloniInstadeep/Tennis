{
 "cells": [
  {
   "cell_type": "markdown",
   "metadata": {},
   "source": [
    "# MADDPG\n"
   ]
  },
  {
   "cell_type": "markdown",
   "metadata": {},
   "source": [
    "## Implementation\n",
    "\n",
    "The Multi Agent DDPG [(notes)](https://paperswithcode.com/method/maddpg) extends the Deep Deterministic Policy Gradient [(notes)](https://paperswithcode.com/method/ddpg) when using multi agents. \n",
    "The policy comes with two neural networks, one to model the action to be taken and one to estimate the value of a given state/action pair. The two networks can share some common layers if needed.\n",
    "For the learning, two target networks are also used.\n",
    "\n",
    "### Learning algorithm\n",
    "\n",
    "The deep neural network Actor is used to predict the best actions for a given state.\n",
    "The deep neural network Critic is used to predict the return for a given state when taking a given action.\n",
    "\n",
    "Training directly the policy is not an easy task and it can lead to instability. \n",
    "\n",
    "DDPG offers some techniques to help reducing this problem.\n",
    "\n",
    "- Using a memory history of previous experience (rollout). The learning happens on a shuffled memory, this helps breaking the correlation between a sequence of steps/ recent steps. Hence the agent learns a more generic behavior.\n",
    "\n",
    "- Use two networks, once for the training and driving the action and one for the value.  This further reduce the correlation between action and sequence, plus reduces the so called \"moving target\" problem. \n",
    "\n",
    "- Target networks are softly updated, this further reduces the issue of the \"moving target\".\n",
    "\n",
    "It also offers some key point to leverage speed up:\n",
    "\n",
    "- Reuse the same memory multiple times.\n",
    "\n",
    "- Traing and rollout are separate, we can hence massively parallelize the rollouts.\n",
    "\n",
    "\n",
    "Note, for continuous action, for continuous actions the actor network is not returning the actual action for the envinronment. \n",
    "\n",
    "It is returning the \"mean\" value, we then use a Gaussian distribution with a given standard deviation to the sample the actual action. This is mainly done for exploration. The noise is slowly reduced during the training.\n",
    "\n",
    "\n",
    "\n",
    "#### Hyperparameters\n",
    "For calculating expected return\n",
    "- GAMMA: 0.99\n",
    "\n",
    "For adam optimizer and target update:\n",
    "- LR:  2e-4\n",
    "- TAU: 1e-3\n",
    "\n",
    "For noise:\n",
    "- std_start:  0.15\n",
    "- std_end:    0.05\n",
    "- std_decay:  1.0-1.0e-4\n",
    "\n",
    "For memory rollout, batch and update frequency:\n",
    "- BUFFER_SIZE: 1e5\n",
    "- BATCH_SIZE:  64*2*2\n",
    "- UPDATE_EVERY: 1\n",
    "\n",
    "\n",
    "\n",
    "#### Model architecture\n",
    "\n",
    "The critic network is composed of 3 fully connected layers, with relu activation functions:\n",
    "- (24+2)x64 \n",
    "- Relu\n",
    "- 64x64\n",
    "- Relu\n",
    "- 64x1\n",
    "\n",
    "The actor network is composed of 3 fully connected layers with relu activation function, plus a final Tanh to final value is applied:\n",
    "- 24x64\n",
    "- Relu\n",
    "- 64x64\n",
    "- Relu\n",
    "- 64x2\n",
    "- Tanh\n",
    "\n",
    "## Result\n",
    "\n",
    "The agent is able to achieve the required performance after 3403 episodes.\n",
    "\n",
    "\n",
    "\n"
   ]
  },
  {
   "attachments": {
    "training_history.png": {
     "image/png": "[encoded data removed]"
    }
   },
   "cell_type": "markdown",
   "metadata": {},
   "source": [
    "![training_history.png](attachment:training_history.png)"
   ]
  },
  {
   "cell_type": "markdown",
   "metadata": {},
   "source": [
    "## Possible Improvements\n",
    "It is possible to further improve the the algorithm by implementing additional features:\n",
    "- \"investigate parameters\", changing parameters to speed up the optimization\n",
    "- \"noise\", we used a simple gaussian distribution, there are alternatives we can use.\n",
    "- \"exploit memory\", we randomly sample the memory, but we should prioritize good memory.\n",
    "- \"alternative approaches like PPO\".\n"
   ]
  },
  {
   "cell_type": "code",
   "execution_count": null,
   "metadata": {},
   "outputs": [],
   "source": []
  }
 ],
 "metadata": {
  "kernelspec": {
   "display_name": "drlnd",
   "language": "python",
   "name": "drlnd"
  },
  "language_info": {
   "codemirror_mode": {
    "name": "ipython",
    "version": 3
   },
   "file_extension": ".py",
   "mimetype": "text/x-python",
   "name": "python",
   "nbconvert_exporter": "python",
   "pygments_lexer": "ipython3",
   "version": "3.6.13"
  }
 },
 "nbformat": 4,
 "nbformat_minor": 2
}
