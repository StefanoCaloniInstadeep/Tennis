{
 "cells": [
  {
   "cell_type": "markdown",
   "metadata": {},
   "source": [
    "# Navigation\n",
    "\n",
    "---\n",
    "\n",
    "In this notebook, you will learn how to use the Unity ML-Agents environment for the first project of the [Deep Reinforcement Learning Nanodegree](https://www.udacity.com/course/deep-reinforcement-learning-nanodegree--nd893).\n",
    "\n",
    "### 1. Start the Environment\n",
    "\n",
    "We begin by importing some necessary packages.  If the code cell below returns an error, please revisit the project instructions to double-check that you have installed [Unity ML-Agents](https://github.com/Unity-Technologies/ml-agents/blob/master/docs/Installation.md) and [NumPy](http://www.numpy.org/)."
   ]
  },
  {
   "cell_type": "code",
   "execution_count": 1,
   "metadata": {},
   "outputs": [
    {
     "data": {
      "text/plain": [
       "<torch._C.Generator at 0x701f25fa2cf0>"
      ]
     },
     "execution_count": 1,
     "metadata": {},
     "output_type": "execute_result"
    }
   ],
   "source": [
    "from unityagents import UnityEnvironment\n",
    "import numpy as np\n",
    "import random\n",
    "import torch\n",
    "\n",
    "SEED = 0\n",
    "random.seed(SEED)\n",
    "np.random.seed(SEED)\n",
    "torch.manual_seed(SEED)"
   ]
  },
  {
   "cell_type": "markdown",
   "metadata": {},
   "source": [
    "Next, we will start the environment!  **_Before running the code cell below_**, change the `file_name` parameter to match the location of the Unity environment that you downloaded.\n",
    "\n",
    "\n",
    "In the repository, it is already provided the linux version:\n"
   ]
  },
  {
   "cell_type": "code",
   "execution_count": 2,
   "metadata": {},
   "outputs": [
    {
     "name": "stderr",
     "output_type": "stream",
     "text": [
      "INFO:unityagents:\n",
      "'Academy' started successfully!\n",
      "Unity Academy name: Academy\n",
      "        Number of Brains: 1\n",
      "        Number of External Brains : 1\n",
      "        Lesson number : 0\n",
      "        Reset Parameters :\n",
      "\t\t\n",
      "Unity brain name: TennisBrain\n",
      "        Number of Visual Observations (per agent): 0\n",
      "        Vector Observation space type: continuous\n",
      "        Vector Observation space size (per agent): 8\n",
      "        Number of stacked Vector Observation: 3\n",
      "        Vector Action space type: continuous\n",
      "        Vector Action space size (per agent): 2\n",
      "        Vector Action descriptions: , \n"
     ]
    }
   ],
   "source": [
    "env = UnityEnvironment(file_name=\"Tennis_Linux/Tennis.x86_64\")"
   ]
  },
  {
   "cell_type": "markdown",
   "metadata": {},
   "source": [
    "Environments contain **_brains_** which are responsible for deciding the actions of their associated agents. Here we check for the first brain available, and set it as the default brain we will be controlling from Python."
   ]
  },
  {
   "cell_type": "code",
   "execution_count": 3,
   "metadata": {},
   "outputs": [],
   "source": [
    "# get the default brain\n",
    "brain_name = env.brain_names[0]\n",
    "brain = env.brains[brain_name]"
   ]
  },
  {
   "cell_type": "markdown",
   "metadata": {},
   "source": [
    "### 2. Examine the State and Action Spaces\n",
    "\n",
    "The simulation contains two agents playing tennis.  At each time step, it has two continuous actions at its disposal:\n",
    "- move left-right \n",
    "- jump\n",
    "\n",
    "The state space has `24` dimensions and contains the ball's position and velocity, along with the postion and velocity of the rackets.  A reward of `+0.1` is provided for pushing the ball over the net, and a reward of `-0.01` is provided for dropping the ball or pushing outside. \n",
    "\n",
    "Run the code cell below to print some information about the environment."
   ]
  },
  {
   "cell_type": "code",
   "execution_count": 5,
   "metadata": {},
   "outputs": [
    {
     "name": "stdout",
     "output_type": "stream",
     "text": [
      "Agents count: 2\n",
      "State size: 24\n",
      "Action size: 2\n"
     ]
    }
   ],
   "source": [
    "# get the default brain\n",
    "brain_name = env.brain_names[0]\n",
    "brain = env.brains[brain_name]\n",
    "\n",
    "\n",
    "env_info = env.reset(train_mode=True)[brain_name]\n",
    "\n",
    "NUM_AGENTS = len(env_info.agents)\n",
    "STATE_SIZE = env_info.vector_observations.shape[1]\n",
    "ACTION_SIZE = brain.vector_action_space_size\n",
    "\n",
    "print('Agents count:', NUM_AGENTS)\n",
    "print('State size:', STATE_SIZE)\n",
    "print('Action size:', ACTION_SIZE)"
   ]
  },
  {
   "cell_type": "markdown",
   "metadata": {},
   "source": [
    "### 3. Take Random Actions in the Environment\n",
    "\n",
    "In the next code cell, you will learn how to use the Python API to control the agent and receive feedback from the environment.\n",
    "\n",
    "Once this cell is executed, you will watch the agent's performance, if it selects an action (uniformly) at random with each time step.  A window should pop up that allows you to observe the agent, as it play tennis.  \n",
    "\n",
    "Of course, as part of the project, you'll have to change the code so that the agent is able to use its experience to gradually choose better actions when interacting with the environment!"
   ]
  },
  {
   "cell_type": "code",
   "execution_count": 5,
   "metadata": {},
   "outputs": [
    {
     "name": "stdout",
     "output_type": "stream",
     "text": [
      "Score: 0.0\n",
      "Score: 0.0\n",
      "Score: 0.0\n",
      "Score: 0.0\n",
      "Score: 0.0\n"
     ]
    }
   ],
   "source": [
    "for _ in range(5):\n",
    "    env_info = env.reset(train_mode=False)[brain_name]\n",
    "    states = env_info.vector_observations\n",
    "    scores = np.zeros(NUM_AGENTS)                       # initialize the score\n",
    "    dones = np.zeros(NUM_AGENTS)                        # initialize the done\n",
    "    actions = np.zeros((NUM_AGENTS, ACTION_SIZE))\n",
    "    while not np.any(dones):\n",
    "        actions = np.random.randn(NUM_AGENTS, ACTION_SIZE)\n",
    "        # random actions but clipped to -1,1\n",
    "        actions = np.clip(actions, -1, 1)\n",
    "        # send the action to the environment\n",
    "        env_info = env.step(actions)[brain_name]\n",
    "        rewards = env_info.rewards                      # get the reward\n",
    "        dones = env_info.local_done                     # see if episode has finished\n",
    "        scores += rewards                               # update the score\n",
    "        next_states = env_info.vector_observations\n",
    "        states = next_states\n",
    "\n",
    "    max_score = np.max(scores)\n",
    "    print(\"Score: {}\".format(max_score))"
   ]
  },
  {
   "cell_type": "markdown",
   "metadata": {},
   "source": [
    "### 4. It's Your Turn!\n",
    "\n",
    "Now it's your turn to train your own agent to solve the environment!  When training the environment, set `train_mode=True`, so that the line for resetting the environment looks like the following:\n",
    "```python\n",
    "env_info = env.reset(train_mode=True)[brain_name]\n",
    "```\n",
    "\n",
    "Familiarize with `agent.py`, `network.py`, `replay_buffer.py`.\n",
    "\n",
    "The `Agent` is the core of the algorithm, it predicts the next step. It store a local and a target network that are used to predict and train the the agent. It is an actor critic agent.\n",
    "\n",
    "The `ActorNetwork` and `CriticNetwork` are the deep networks we use for predicting the next move and the Q values for a given state.\n",
    "\n",
    "\n",
    "The `ReplayBuffer` is where we store the previous states/rewards/... we will sample this during the training.\n",
    "\n",
    "Most of the hyper parameter can be found in the `agent.py`.\n",
    "\n",
    "In the following block we are training the two agents. Note how we add some noise to the chosen actions in order to explore more the environment. We will gradually reduce the noise during the optimization."
   ]
  },
  {
   "cell_type": "code",
   "execution_count": 6,
   "metadata": {},
   "outputs": [
    {
     "name": "stdout",
     "output_type": "stream",
     "text": [
      "Agent\n",
      "Actor: ActorNetwork(\n",
      "  (fc1): Linear(in_features=24, out_features=64, bias=True)\n",
      "  (fc2): Linear(in_features=64, out_features=64, bias=True)\n",
      "  (fc3): Linear(in_features=64, out_features=2, bias=True)\n",
      ")\n",
      "Critic: CriticNetwork(\n",
      "  (fc1): Linear(in_features=26, out_features=64, bias=True)\n",
      "  (fc2): Linear(in_features=64, out_features=64, bias=True)\n",
      "  (fc3): Linear(in_features=64, out_features=1, bias=True)\n",
      ")\n",
      "Agent\n",
      "Actor: ActorNetwork(\n",
      "  (fc1): Linear(in_features=24, out_features=64, bias=True)\n",
      "  (fc2): Linear(in_features=64, out_features=64, bias=True)\n",
      "  (fc3): Linear(in_features=64, out_features=2, bias=True)\n",
      ")\n",
      "Critic: CriticNetwork(\n",
      "  (fc1): Linear(in_features=26, out_features=64, bias=True)\n",
      "  (fc2): Linear(in_features=64, out_features=64, bias=True)\n",
      "  (fc3): Linear(in_features=64, out_features=1, bias=True)\n",
      ")\n",
      "Episode 0\tScore: 0.0000\tMean Score: 0.0000\tMax Score: 0.0000\tStd: 0.1500\n",
      "Episode 3\tScore: 0.0000\tMean Score: 0.0000\tMax Score: 0.0000\tStd: 0.1499"
     ]
    },
    {
     "name": "stderr",
     "output_type": "stream",
     "text": [
      "/home/stefano/miniconda3/envs/drlnd/lib/python3.6/site-packages/torch/nn/functional.py:1795: UserWarning: nn.functional.tanh is deprecated. Use torch.tanh instead.\n",
      "  warnings.warn(\"nn.functional.tanh is deprecated. Use torch.tanh instead.\")\n"
     ]
    },
    {
     "name": "stdout",
     "output_type": "stream",
     "text": [
      "Episode 100\tScore: 0.0000\tMean Score: 0.0010\tMax Score: 0.1000\tStd: 0.1485\n",
      "Episode 200\tScore: 0.0000\tMean Score: 0.0000\tMax Score: 0.0000\tStd: 0.1470\n",
      "Episode 300\tScore: 0.0000\tMean Score: 0.0000\tMax Score: 0.0000\tStd: 0.1456\n",
      "Episode 400\tScore: 0.0000\tMean Score: 0.0000\tMax Score: 0.0000\tStd: 0.1441\n",
      "Episode 500\tScore: 0.0000\tMean Score: 0.0000\tMax Score: 0.0000\tStd: 0.1427\n",
      "Episode 600\tScore: 0.0000\tMean Score: 0.0000\tMax Score: 0.0000\tStd: 0.1413\n",
      "Episode 700\tScore: 0.0000\tMean Score: 0.0037\tMax Score: 0.1000\tStd: 0.1398\n",
      "Episode 800\tScore: 0.0000\tMean Score: 0.0054\tMax Score: 0.0900\tStd: 0.1385\n",
      "Episode 900\tScore: 0.0000\tMean Score: 0.0110\tMax Score: 0.1000\tStd: 0.1371\n",
      "Episode 1000\tScore: 0.0000\tMean Score: 0.0010\tMax Score: 0.1000\tStd: 0.1357\n",
      "Episode 1100\tScore: 0.0000\tMean Score: 0.0050\tMax Score: 0.1000\tStd: 0.1344\n",
      "Episode 1200\tScore: 0.0000\tMean Score: 0.0149\tMax Score: 0.1000\tStd: 0.1330\n",
      "Episode 1300\tScore: 0.0000\tMean Score: 0.0000\tMax Score: 0.0000\tStd: 0.1317\n",
      "Episode 1400\tScore: 0.0000\tMean Score: 0.0126\tMax Score: 0.0900\tStd: 0.1304\n",
      "Episode 1500\tScore: 0.0000\tMean Score: 0.0216\tMax Score: 0.0900\tStd: 0.1291\n",
      "Episode 1600\tScore: 0.1000\tMean Score: 0.0279\tMax Score: 0.1000\tStd: 0.1278\n",
      "Episode 1700\tScore: 0.0900\tMean Score: 0.0350\tMax Score: 0.2000\tStd: 0.1265\n",
      "Episode 1800\tScore: 0.0900\tMean Score: 0.0682\tMax Score: 0.2000\tStd: 0.1253\n",
      "Episode 1900\tScore: 0.0000\tMean Score: 0.0518\tMax Score: 0.2000\tStd: 0.1240\n",
      "Episode 2000\tScore: 0.0000\tMean Score: 0.0353\tMax Score: 0.2000\tStd: 0.1228\n",
      "Episode 2100\tScore: 0.0900\tMean Score: 0.0647\tMax Score: 0.3000\tStd: 0.1216\n",
      "Episode 2200\tScore: 0.0000\tMean Score: 0.0620\tMax Score: 0.2000\tStd: 0.1204\n",
      "Episode 2300\tScore: 0.1000\tMean Score: 0.0493\tMax Score: 0.1000\tStd: 0.1192\n",
      "Episode 2400\tScore: 0.1000\tMean Score: 0.0738\tMax Score: 0.2000\tStd: 0.1180\n",
      "Episode 2500\tScore: 0.0900\tMean Score: 0.0713\tMax Score: 0.2000\tStd: 0.1168\n",
      "Episode 2600\tScore: 0.2000\tMean Score: 0.1031\tMax Score: 0.3000\tStd: 0.1156\n",
      "Episode 2700\tScore: 0.0900\tMean Score: 0.1179\tMax Score: 0.3000\tStd: 0.1145\n",
      "Episode 2800\tScore: 0.1000\tMean Score: 0.1112\tMax Score: 0.3000\tStd: 0.1134\n",
      "Episode 2900\tScore: 0.2000\tMean Score: 0.1166\tMax Score: 0.2900\tStd: 0.1122\n",
      "Episode 3000\tScore: 0.2000\tMean Score: 0.1161\tMax Score: 0.4000\tStd: 0.1111\n",
      "Episode 3100\tScore: 0.1900\tMean Score: 0.1324\tMax Score: 0.4000\tStd: 0.1100\n",
      "Episode 3200\tScore: 0.4000\tMean Score: 0.1912\tMax Score: 0.6000\tStd: 0.1089\n",
      "Episode 3300\tScore: 0.4000\tMean Score: 0.3189\tMax Score: 1.4000\tStd: 0.1078\n",
      "Episode 3400\tScore: 0.7000\tMean Score: 0.4985\tMax Score: 2.6000\tStd: 0.1068\n",
      "Episode 3403\tScore: 0.6000\tMean Score: 0.5017\tMax Score: 2.6000\tStd: 0.1067\n",
      "Solved in 3403 episodes.\n"
     ]
    }
   ],
   "source": [
    "from agent import Agent\n",
    "from collections import deque\n",
    "import torch\n",
    "from torch.distributions import normal\n",
    "\n",
    "agent_zero = Agent(STATE_SIZE, ACTION_SIZE)\n",
    "agent_one = Agent(STATE_SIZE, ACTION_SIZE)\n",
    "print(agent_zero)\n",
    "print(agent_one)\n",
    "\n",
    "std_initial = 0.15\n",
    "std_final = 0.05\n",
    "std_decrease = 1.0-1.0e-4\n",
    "std = std_initial\n",
    "\n",
    "target = 0.5\n",
    "scores=[]\n",
    "scores_window = deque(maxlen=100)\n",
    "for i_episode in range(10000):\n",
    "    env_info = env.reset(train_mode=True)[brain_name]\n",
    "    state = env_info.vector_observations\n",
    "    score = np.zeros(NUM_AGENTS)\n",
    "\n",
    "    noise_distribution = normal.Normal(0, std)\n",
    "    while True:\n",
    "        action_zero = agent_zero.act(\n",
    "            state[0]) + noise_distribution.sample((ACTION_SIZE,))\n",
    "        action_one = agent_one.act(\n",
    "            state[1]) + noise_distribution.sample((ACTION_SIZE,))\n",
    "\n",
    "        actions = np.vstack((action_zero.numpy(), action_one.numpy()))\n",
    "        actions = np.clip(actions, -1, 1)\n",
    "\n",
    "        env_info = env.step(actions)[brain_name]\n",
    "        next_state = env_info.vector_observations\n",
    "        rewards = env_info.rewards\n",
    "        dones = env_info.local_done\n",
    "        agent_zero.step(state[0], actions[0], rewards[0],\n",
    "                        next_state[0], dones[0])\n",
    "        agent_one.step(state[1], actions[1], rewards[1],\n",
    "                       next_state[1], dones[1])\n",
    "        score += env_info.rewards\n",
    "        state = next_state\n",
    "        if np.any(dones):\n",
    "            break\n",
    "\n",
    "    std = max(std*std_decrease, std_final)\n",
    "    score = np.max(score)\n",
    "    \n",
    "    scores.append(score)\n",
    "    scores_window.append(score)\n",
    "    average_score = np.mean(scores_window)\n",
    "    max_score = np.max(scores_window)\n",
    "    \n",
    "    print('\\rEpisode {}\\tScore: {:.4f}\\tMean Score: {:.4f}\\tMax Score: {:.4f}\\tStd: {:.4f}'.format(\n",
    "        i_episode, score, average_score, max_score, std), end=\"\")\n",
    "    if i_episode % 100 == 0:\n",
    "        print('\\rEpisode {}\\tScore: {:.4f}\\tMean Score: {:.4f}\\tMax Score: {:.4f}\\tStd: {:.4f}'.format(\n",
    "            i_episode, score, average_score, max_score, std))\n",
    "    if average_score >= target:\n",
    "        print(\"\\nSolved in {} episodes.\".format(i_episode))\n",
    "        agent_zero.save(\"agent_zero.pth\")\n",
    "        agent_one.save(\"agent_one.pth\")\n",
    "        break"
   ]
  },
  {
   "cell_type": "code",
   "execution_count": 7,
   "metadata": {},
   "outputs": [
    {
     "data": {
      "image/png": "[encoded data removed]",
      "text/plain": [
       "<Figure size 432x288 with 1 Axes>"
      ]
     },
     "metadata": {
      "needs_background": "light"
     },
     "output_type": "display_data"
    }
   ],
   "source": [
    "import matplotlib.pyplot as plt\n",
    "\n",
    "fig = plt.figure()\n",
    "ax = fig.add_subplot(111)\n",
    "plt.plot(np.arange(len(scores)), scores)\n",
    "plt.ylabel('score')\n",
    "plt.xlabel('episode #')\n",
    "plt.savefig('training_history.png')\n",
    "plt.show()\n"
   ]
  },
  {
   "cell_type": "markdown",
   "metadata": {},
   "source": [
    "Now we can test our trained agent without noise."
   ]
  },
  {
   "cell_type": "code",
   "execution_count": 8,
   "metadata": {},
   "outputs": [
    {
     "name": "stdout",
     "output_type": "stream",
     "text": [
      "Score: [2.50000004 2.60000004]\n"
     ]
    }
   ],
   "source": [
    "from agent import Agent\n",
    "from collections import deque\n",
    "import torch\n",
    "\n",
    "trained_agent_zero = Agent(STATE_SIZE, ACTION_SIZE)\n",
    "trained_agent_one = Agent(STATE_SIZE, ACTION_SIZE)\n",
    "trained_agent_zero.load('agent_zero.pth')\n",
    "trained_agent_one.load('agent_one.pth')\n",
    "\n",
    "env_info = env.reset(train_mode=False)[brain_name] # reset the environment\n",
    "state = env_info.vector_observations \n",
    "score = np.zeros(NUM_AGENTS)                       # initialize the score\n",
    "while True:\n",
    "    action_zero = trained_agent_zero.act(state[0])\n",
    "    action_one = trained_agent_one.act(state[1])\n",
    "    action = np.vstack((action_zero.numpy(), action_one.numpy()))\n",
    "    env_info = env.step(action)[brain_name]     # send the action to the environment\n",
    "    next_state = env_info.vector_observations   # get the next state\n",
    "    reward = env_info.rewards                   # get the reward\n",
    "    done = env_info.local_done                  # see if episode has finished\n",
    "    score += reward                             # update the score\n",
    "    state = next_state                          # roll over the state to next time step\n",
    "    if np.any(done):                           # exit loop if episode finished\n",
    "        break\n",
    "    \n",
    "print(\"Score: {}\".format(score))"
   ]
  },
  {
   "cell_type": "markdown",
   "metadata": {},
   "source": [
    "When finished, you can close the environment."
   ]
  },
  {
   "cell_type": "code",
   "execution_count": 9,
   "metadata": {},
   "outputs": [],
   "source": [
    "env.close()"
   ]
  },
  {
   "cell_type": "code",
   "execution_count": null,
   "metadata": {},
   "outputs": [],
   "source": []
  }
 ],
 "metadata": {
  "kernelspec": {
   "display_name": "drlnd",
   "language": "python",
   "name": "drlnd"
  },
  "language_info": {
   "codemirror_mode": {
    "name": "ipython",
    "version": 3
   },
   "file_extension": ".py",
   "mimetype": "text/x-python",
   "name": "python",
   "nbconvert_exporter": "python",
   "pygments_lexer": "ipython3",
   "version": "3.6.13"
  }
 },
 "nbformat": 4,
 "nbformat_minor": 2
}
